{
 "cells": [
  {
   "metadata": {},
   "cell_type": "markdown",
   "source": "第一题：根据个⼈情况，在GPU 服务器上部署DeepSeek-R1:8B 推理模型（如果只有 CPU，就部署DeepSeek-R1:1.5B 模型），使⽤ Ollama 命令⾏模式⽣成“环保咖啡杯”的⼩红书⽂案，测试是否部署成功。",
   "id": "fdffc9800cc558b7"
  },
  {
   "metadata": {},
   "cell_type": "markdown",
   "source": "![rednote](https://raw.githubusercontent.com/Switch-vov/deepseek-quickstart/refs/heads/main/deepseek/ollama/ollama_command_generate_rednote.png)",
   "id": "ab49263749bfc680"
  },
  {
   "metadata": {},
   "cell_type": "markdown",
   "source": "第二题：调⽤Ollama 私有化部署的DeepSeek API ，⽣成环保咖啡杯的⼩红书⽂案。",
   "id": "3ace0d941ed4116"
  },
  {
   "metadata": {},
   "cell_type": "markdown",
   "source": [
    "## 部署方式\n",
    "使用docker的方式部署\n",
    "```bash\n",
    "docker run -d -p 13000:8080 -p 11434:11434 \\\n",
    "  --gpus=all \\\n",
    "  -v ollama:/root/.ollama \\\n",
    "  -v open-webui:/app/backend/data \\\n",
    "  -e \"OLLAMA_HOST=0.0.0.0\" \\\n",
    "  -e \"OLLAMA_ORIGINS=*\" \\\n",
    "  --name open-webui \\\n",
    "  --restart always \\\n",
    "  ghcr.io/open-webui/open-webui:ollama\n",
    "```\n",
    "PS: 这里开放了11434端口，并且配置了能够远程访问，所以宿主机是能访问的\n",
    "\n",
    "## 启动模型\n",
    "\n",
    "使用`docker exec -i -t open-webui /bin/bash`进入容器，在容器中执行`ollama run deepseek-r1:8b`"
   ],
   "id": "ae1d957b85ea1d7c"
  },
  {
   "metadata": {
    "ExecuteTime": {
     "end_time": "2025-06-14T02:31:09.556499Z",
     "start_time": "2025-06-14T02:31:01.460601Z"
    }
   },
   "cell_type": "code",
   "source": [
    "# 在宿主机直接通过openai的形式访问\n",
    "# 参考api文档：https://github.com/ollama/ollama/blob/main/docs/openai.md\n",
    "from openai import OpenAI\n",
    "\n",
    "client = OpenAI(\n",
    "    base_url='http://localhost:11434/v1/',\n",
    "\n",
    "    # required but ignored\n",
    "    api_key='ollama',\n",
    ")\n",
    "\n",
    "chat_completion = client.chat.completions.create(\n",
    "    messages=[\n",
    "        {\n",
    "            'role': 'system',\n",
    "            'content': '''\n",
    "            你是一个资深的小红书爆款文案专家，擅长结合最新潮流和产品卖点，创作引人入胜、高互动、高转化的笔记文案。\n",
    "            你的任务是根据用户提供的产品和需求，生成包含标题、正文、相关标签和表情符号的完整小红书笔记。\n",
    "            ''',\n",
    "        },\n",
    "        {\n",
    "            'role': 'user',\n",
    "            'content': '⽣成“环保咖啡杯”的⼩红书⽂案',\n",
    "        }\n",
    "    ],\n",
    "    model='deepseek-r1:8b',\n",
    ")"
   ],
   "id": "8731000bfc5e8d64",
   "outputs": [],
   "execution_count": 8
  },
  {
   "metadata": {
    "ExecuteTime": {
     "end_time": "2025-06-14T02:33:38.354998Z",
     "start_time": "2025-06-14T02:33:38.351666Z"
    }
   },
   "cell_type": "code",
   "source": "print(chat_completion.choices[0].message.content)",
   "id": "b29a9f6f8b55e6e9",
   "outputs": [
    {
     "name": "stdout",
     "output_type": "stream",
     "text": [
      "<think>\n",
      "嗯，用户想要一个关于\"环保咖啡杯\"的小红书文案。这应该是个注重生活品质又关注环保的人群创作需求，他们可能经常在咖啡馆使用一次性杯子带来的塑料污染困扰。\n",
      "\n",
      "看了一下这个环保咖啡杯的设计特点：有带柄的材质、可折叠便携特性、微波炉安全性和分隔层设计。这些卖点很实用啊，在文案中重点应该放在解决用户实际痛点上。\n",
      "\n",
      "标题需要足够吸睛，结合\"神器\"\"懒人\"\"必备品\"这类标签可能会比较吸引眼球。可以强调它是环保又好用的特点，并加入一些夸张表达增加吸引力。\n",
      "\n",
      "正文部分要突出以下几点：首先说明传统咖啡杯的问题引发共鸣；然后转折介绍这个产品是如何完美解决的；接着具体描述产品的多场景适用性，分便携、收纳、微波炉三个实用角度进行阐述。最后还要加上环保使命和使用体验这种升华内容的部分。\n",
      "\n",
      "关键词选择上要加入一些热门标签如#可持续生活 和具体的搜索标签比如 #星巴克杯 的用户肯定很好搜到目标受众。\n",
      "\n",
      "表情符号可以考虑用🌿强调环保部分，😄表现便携的乐趣，🎒突出户外场景，🏠聚焦日常生活痛点，并且在结尾加上💡给读者带来启发感使内容更有共鸣。\n",
      "</think>\n",
      "标题：这个咖啡杯太酷了！我被迷住，再也不买一次性杯子啦‼️\n",
      "\n",
      "正文：\n",
      "一直在为咖啡馆不能带自己的杯子而烦恼吗？🤔\n",
      "塑料袋装着又难看还要买单好麻烦😤\n",
      "\n",
      "直到遇见这款环保咖啡杯！！它真的是我的最爱呀💕\n",
      "别看它是个小小的一次性杯造型，却超级实用！\n",
      "\n",
      "首先它的柄设计太好了，\n",
      "拿着特别舒适不烫手，再也不用每次都买带手套的杯子了。\n",
      "而且这个杯垫自带分隔层✔️可以分装热饮冷饮，一举两得～\n",
      "\n",
      "最最重要的是！它可以折叠起来放进包里✔️\n",
      "咖啡、奶茶都可以用上它🍃\n",
      "无论是去上班族还是出游党必备噢！\n",
      "\n",
      "偷偷告诉你一个小秘密✨\n",
      "有时候早上来不及做早餐，\n",
      "就用微波炉加热一下食物放在里面吃也完全没问题呀！\n",
      "放心吧，这个杯子是微波炉安全认证的👌\n",
      "\n",
      "从此告别一次性塑料杯♻️\n",
      "地球妈妈会感谢我的！🌍\n",
      "更不用再为多付一杯费用（虽然有些店没那么做）而烦恼了。\n",
      "这真的是一个又环保又能省钱的神器啊！\n",
      "\n",
      "每个喜欢咖啡的朋友都应该了解一下，\n",
      "我保证你会发现它简直是生活中的完美伴侣～\n",
      "\n",
      "#可持续生活 #每日穿搭 #好物推荐 #星巴克杯 #我的咖啡日常\n"
     ]
    }
   ],
   "execution_count": 10
  },
  {
   "metadata": {},
   "cell_type": "code",
   "outputs": [],
   "execution_count": null,
   "source": "",
   "id": "24fb85d36d127a21"
  }
 ],
 "metadata": {
  "kernelspec": {
   "display_name": "Python 3",
   "language": "python",
   "name": "python3"
  },
  "language_info": {
   "codemirror_mode": {
    "name": "ipython",
    "version": 2
   },
   "file_extension": ".py",
   "mimetype": "text/x-python",
   "name": "python",
   "nbconvert_exporter": "python",
   "pygments_lexer": "ipython2",
   "version": "2.7.6"
  }
 },
 "nbformat": 4,
 "nbformat_minor": 5
}
