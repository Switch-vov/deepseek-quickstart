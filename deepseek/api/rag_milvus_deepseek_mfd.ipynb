{
 "cells": [
  {
   "cell_type": "code",
   "execution_count": 2,
   "id": "d7fa4335-a5d8-4c91-ba9c-33246a25ab3e",
   "metadata": {
    "execution": {
     "iopub.execute_input": "2025-06-07T16:29:09.517368Z",
     "iopub.status.busy": "2025-06-07T16:29:09.516990Z",
     "iopub.status.idle": "2025-06-07T16:29:09.520618Z",
     "shell.execute_reply": "2025-06-07T16:29:09.519991Z",
     "shell.execute_reply.started": "2025-06-07T16:29:09.517344Z"
    }
   },
   "outputs": [],
   "source": [
    "import os\n",
    "api_key = os.getenv(\"DEEPSEEK_API_KEY\")\n",
    "base_url = os.getenv(\"DEEPSEEK_BASE_URL\")"
   ]
  },
  {
   "cell_type": "code",
   "execution_count": 17,
   "id": "9955a36a-8ba3-4c78-abd4-40e7b01aeaf0",
   "metadata": {
    "execution": {
     "iopub.execute_input": "2025-06-07T16:43:43.205061Z",
     "iopub.status.busy": "2025-06-07T16:43:43.204519Z",
     "iopub.status.idle": "2025-06-07T16:43:43.209549Z",
     "shell.execute_reply": "2025-06-07T16:43:43.209041Z",
     "shell.execute_reply.started": "2025-06-07T16:43:43.205038Z"
    },
    "scrolled": true
   },
   "outputs": [],
   "source": [
    "# 准备数据\n",
    "\n",
    "items = []\n",
    "mfd_file_path = \"./mfd.md\"\n",
    "with open(mfd_file_path, \"r\") as file:\n",
    "    file_text:str = file.read()\n",
    "    # 找到所有法规\n",
    "    handle_items = file_text.split(\"\\n**\")\n",
    "    # 过滤不是法规的条目\n",
    "    handle_items = [s for s in handle_items if '**' in s]\n",
    "    # 去掉**\n",
    "    handle_items = [s.replace(\"**\", \"\") for s in handle_items]\n",
    "    items += handle_items"
   ]
  },
  {
   "cell_type": "code",
   "execution_count": 18,
   "id": "923a6a20-db06-4bbc-a392-879fa964c4bd",
   "metadata": {
    "execution": {
     "iopub.execute_input": "2025-06-07T16:44:42.203947Z",
     "iopub.status.busy": "2025-06-07T16:44:42.203251Z",
     "iopub.status.idle": "2025-06-07T16:44:42.258350Z",
     "shell.execute_reply": "2025-06-07T16:44:42.257808Z",
     "shell.execute_reply.started": "2025-06-07T16:44:42.203924Z"
    }
   },
   "outputs": [],
   "source": [
    "# 准备LLM和embeding模型\n",
    "from openai import OpenAI\n",
    "\n",
    "deepseek_client = OpenAI(api_key=api_key,base_url=base_url)"
   ]
  },
  {
   "cell_type": "code",
   "execution_count": 19,
   "id": "ee94b20c-9f24-4381-b460-b016f72d7fd6",
   "metadata": {
    "execution": {
     "iopub.execute_input": "2025-06-07T16:45:39.056082Z",
     "iopub.status.busy": "2025-06-07T16:45:39.055518Z",
     "iopub.status.idle": "2025-06-07T16:45:41.458846Z",
     "shell.execute_reply": "2025-06-07T16:45:41.458247Z",
     "shell.execute_reply.started": "2025-06-07T16:45:39.056056Z"
    }
   },
   "outputs": [
    {
     "name": "stderr",
     "output_type": "stream",
     "text": [
      "/root/miniconda3/envs/deepseek-quickstart/lib/python3.13/site-packages/tqdm/auto.py:21: TqdmWarning: IProgress not found. Please update jupyter and ipywidgets. See https://ipywidgets.readthedocs.io/en/stable/user_install.html\n",
      "  from .autonotebook import tqdm as notebook_tqdm\n"
     ]
    }
   ],
   "source": [
    "from pymilvus import model as milvus_model\n",
    "\n",
    "embedding_model = milvus_model.DefaultEmbeddingFunction()"
   ]
  },
  {
   "cell_type": "code",
   "execution_count": 20,
   "id": "e71cc543-d404-46c6-9937-95aad5a0195a",
   "metadata": {
    "execution": {
     "iopub.execute_input": "2025-06-07T16:45:51.127881Z",
     "iopub.status.busy": "2025-06-07T16:45:51.127142Z",
     "iopub.status.idle": "2025-06-07T16:45:51.256914Z",
     "shell.execute_reply": "2025-06-07T16:45:51.256279Z",
     "shell.execute_reply.started": "2025-06-07T16:45:51.127847Z"
    }
   },
   "outputs": [
    {
     "name": "stdout",
     "output_type": "stream",
     "text": [
      "768\n",
      "[-0.04836059  0.07163021 -0.01130063 -0.03789341 -0.03320651 -0.01318453\n",
      " -0.03041721 -0.02269495 -0.02317858 -0.00426026]\n"
     ]
    }
   ],
   "source": [
    "test_embedding = embedding_model.encode_queries([\"This is a test\"])[0]\n",
    "embedding_dim = len(test_embedding)\n",
    "print(embedding_dim)\n",
    "print(test_embedding[:10])"
   ]
  },
  {
   "cell_type": "code",
   "execution_count": 23,
   "id": "3ded7637-3c4c-4b54-8502-5ed48334a83d",
   "metadata": {
    "execution": {
     "iopub.execute_input": "2025-06-07T16:47:49.041122Z",
     "iopub.status.busy": "2025-06-07T16:47:49.040437Z",
     "iopub.status.idle": "2025-06-07T16:47:49.046900Z",
     "shell.execute_reply": "2025-06-07T16:47:49.046372Z",
     "shell.execute_reply.started": "2025-06-07T16:47:49.041098Z"
    }
   },
   "outputs": [],
   "source": [
    "# 将数据加载到Milvus\n",
    "\n",
    "from pymilvus import MilvusClient\n",
    "\n",
    "milvus_client = MilvusClient(uri=\"./milvus_mfd.db\")\n",
    "\n",
    "collection_name = \"mfd_collection\""
   ]
  },
  {
   "cell_type": "code",
   "execution_count": 24,
   "id": "bca7a4e3-2422-4ade-a256-5b55efc5aa42",
   "metadata": {
    "execution": {
     "iopub.execute_input": "2025-06-07T16:47:50.351441Z",
     "iopub.status.busy": "2025-06-07T16:47:50.350758Z",
     "iopub.status.idle": "2025-06-07T16:47:50.354860Z",
     "shell.execute_reply": "2025-06-07T16:47:50.354340Z",
     "shell.execute_reply.started": "2025-06-07T16:47:50.351412Z"
    }
   },
   "outputs": [],
   "source": [
    "if milvus_client.has_collection(collection_name):\n",
    "    milvus_client.drop_collection(collection_name)"
   ]
  },
  {
   "cell_type": "code",
   "execution_count": 25,
   "id": "26c3ea84-bcac-4fbe-a549-95df0f2da007",
   "metadata": {
    "execution": {
     "iopub.execute_input": "2025-06-07T16:49:34.242295Z",
     "iopub.status.busy": "2025-06-07T16:49:34.241829Z",
     "iopub.status.idle": "2025-06-07T16:49:34.762307Z",
     "shell.execute_reply": "2025-06-07T16:49:34.761669Z",
     "shell.execute_reply.started": "2025-06-07T16:49:34.242270Z"
    }
   },
   "outputs": [],
   "source": [
    "milvus_client.create_collection(\n",
    "    collection_name=collection_name,\n",
    "    dimension=embedding_dim,\n",
    "    metric_type=\"IP\",\n",
    "    consistency_level=\"Strong\"\n",
    ")"
   ]
  },
  {
   "cell_type": "code",
   "execution_count": 29,
   "id": "76450749-6e96-4040-b8a7-361292c26255",
   "metadata": {
    "execution": {
     "iopub.execute_input": "2025-06-07T16:54:16.570163Z",
     "iopub.status.busy": "2025-06-07T16:54:16.569610Z",
     "iopub.status.idle": "2025-06-07T16:54:59.261520Z",
     "shell.execute_reply": "2025-06-07T16:54:59.260953Z",
     "shell.execute_reply.started": "2025-06-07T16:54:16.570140Z"
    }
   },
   "outputs": [
    {
     "name": "stderr",
     "output_type": "stream",
     "text": [
      "Creating embeddings: 100%|██████████| 387/387 [00:00<00:00, 479384.42it/s]\n"
     ]
    },
    {
     "data": {
      "text/plain": [
       "{'insert_count': 387, 'ids': [0, 1, 2, 3, 4, 5, 6, 7, 8, 9, 10, 11, 12, 13, 14, 15, 16, 17, 18, 19, 20, 21, 22, 23, 24, 25, 26, 27, 28, 29, 30, 31, 32, 33, 34, 35, 36, 37, 38, 39, 40, 41, 42, 43, 44, 45, 46, 47, 48, 49, 50, 51, 52, 53, 54, 55, 56, 57, 58, 59, 60, 61, 62, 63, 64, 65, 66, 67, 68, 69, 70, 71, 72, 73, 74, 75, 76, 77, 78, 79, 80, 81, 82, 83, 84, 85, 86, 87, 88, 89, 90, 91, 92, 93, 94, 95, 96, 97, 98, 99, 100, 101, 102, 103, 104, 105, 106, 107, 108, 109, 110, 111, 112, 113, 114, 115, 116, 117, 118, 119, 120, 121, 122, 123, 124, 125, 126, 127, 128, 129, 130, 131, 132, 133, 134, 135, 136, 137, 138, 139, 140, 141, 142, 143, 144, 145, 146, 147, 148, 149, 150, 151, 152, 153, 154, 155, 156, 157, 158, 159, 160, 161, 162, 163, 164, 165, 166, 167, 168, 169, 170, 171, 172, 173, 174, 175, 176, 177, 178, 179, 180, 181, 182, 183, 184, 185, 186, 187, 188, 189, 190, 191, 192, 193, 194, 195, 196, 197, 198, 199, 200, 201, 202, 203, 204, 205, 206, 207, 208, 209, 210, 211, 212, 213, 214, 215, 216, 217, 218, 219, 220, 221, 222, 223, 224, 225, 226, 227, 228, 229, 230, 231, 232, 233, 234, 235, 236, 237, 238, 239, 240, 241, 242, 243, 244, 245, 246, 247, 248, 249, 250, 251, 252, 253, 254, 255, 256, 257, 258, 259, 260, 261, 262, 263, 264, 265, 266, 267, 268, 269, 270, 271, 272, 273, 274, 275, 276, 277, 278, 279, 280, 281, 282, 283, 284, 285, 286, 287, 288, 289, 290, 291, 292, 293, 294, 295, 296, 297, 298, 299, 300, 301, 302, 303, 304, 305, 306, 307, 308, 309, 310, 311, 312, 313, 314, 315, 316, 317, 318, 319, 320, 321, 322, 323, 324, 325, 326, 327, 328, 329, 330, 331, 332, 333, 334, 335, 336, 337, 338, 339, 340, 341, 342, 343, 344, 345, 346, 347, 348, 349, 350, 351, 352, 353, 354, 355, 356, 357, 358, 359, 360, 361, 362, 363, 364, 365, 366, 367, 368, 369, 370, 371, 372, 373, 374, 375, 376, 377, 378, 379, 380, 381, 382, 383, 384, 385, 386], 'cost': 0}"
      ]
     },
     "execution_count": 29,
     "metadata": {},
     "output_type": "execute_result"
    }
   ],
   "source": [
    "# 插入数据\n",
    "\n",
    "from tqdm import tqdm\n",
    "\n",
    "data = []\n",
    "\n",
    "doc_embeddings = embedding_model.encode_documents(items)\n",
    "\n",
    "for i, item in enumerate(tqdm(items, desc=\"Creating embeddings\")):\n",
    "    data.append({\"id\": i, \"vector\": doc_embeddings[i], \"text\": item})\n",
    "\n",
    "milvus_client.insert(collection_name=collection_name, data=data)"
   ]
  },
  {
   "cell_type": "code",
   "execution_count": 34,
   "id": "b9c27d45-aebe-40c3-97c2-90c91458c7bf",
   "metadata": {
    "execution": {
     "iopub.execute_input": "2025-06-07T16:56:16.285133Z",
     "iopub.status.busy": "2025-06-07T16:56:16.284935Z",
     "iopub.status.idle": "2025-06-07T16:56:16.290586Z",
     "shell.execute_reply": "2025-06-07T16:56:16.290005Z",
     "shell.execute_reply.started": "2025-06-07T16:56:16.285116Z"
    }
   },
   "outputs": [],
   "source": [
    "# 检索查询数据\n",
    "\n",
    "question_1 = \"所有权人对自己的不动产或者动产，有什么权利？\"\n",
    "question_2 = \"抵押权所担保的债权有哪些？\""
   ]
  },
  {
   "cell_type": "code",
   "execution_count": 35,
   "id": "a3c9c36b-aaf5-4991-9b81-d9c917f361f3",
   "metadata": {
    "execution": {
     "iopub.execute_input": "2025-06-07T16:57:53.104734Z",
     "iopub.status.busy": "2025-06-07T16:57:53.104427Z",
     "iopub.status.idle": "2025-06-07T16:57:53.334156Z",
     "shell.execute_reply": "2025-06-07T16:57:53.333475Z",
     "shell.execute_reply.started": "2025-06-07T16:57:53.104710Z"
    }
   },
   "outputs": [],
   "source": [
    "search_res = milvus_client.search(\n",
    "    collection_name=collection_name,\n",
    "    data=embedding_model.encode_queries([question_1, question_2]),\n",
    "    limit=3,\n",
    "    search_params={\"metric_type\": \"IP\", \"params\": {}},\n",
    "    output_fields=[\"text\"]\n",
    ")"
   ]
  },
  {
   "cell_type": "code",
   "execution_count": 37,
   "id": "ff64f665-cce3-4de2-98cc-630b773cb1f3",
   "metadata": {
    "execution": {
     "iopub.execute_input": "2025-06-07T16:58:34.056717Z",
     "iopub.status.busy": "2025-06-07T16:58:34.056353Z",
     "iopub.status.idle": "2025-06-07T16:58:34.059693Z",
     "shell.execute_reply": "2025-06-07T16:58:34.059214Z",
     "shell.execute_reply.started": "2025-06-07T16:58:34.056697Z"
    }
   },
   "outputs": [
    {
     "name": "stdout",
     "output_type": "stream",
     "text": [
      "data: [[{'id': 19, 'distance': 0.8118640184402466, 'entity': {'text': '第二百二十三条 动产物权的设立和转让，自交付时发生效力，但是法律另有规定的除外。\\n'}}, {'id': 10, 'distance': 0.8118640184402466, 'entity': {'text': '第二百一十四条 不动产物权的设立、变更、转让和消灭，依照法律规定应当登记的，自记载于不动产登记簿时发生效力。\\n'}}, {'id': 4, 'distance': 0.8118640184402466, 'entity': {'text': '第二百零八条 不动产权利的设立、变更、转让和消灭，应当依照法律规定登记。动产物权的设立和转让，应当依照法律规定交付。\\n'}}], [{'id': 111, 'distance': 0.7870465517044067, 'entity': {'text': '第三百一十四条 按份共有人对共有的不动产或者动产按照其份额享有所有权。\\n'}}, {'id': 74, 'distance': 0.7870465517044067, 'entity': {'text': '第二百七十七条 业主不得以放弃权利为由不履行义务。\\n'}}, {'id': 1, 'distance': 0.7870465517044067, 'entity': {'text': '第二百零五条 本编调整因物的归属和利用产生的民事关系。\\n'}}]]\n"
     ]
    }
   ],
   "source": [
    "print(search_res)"
   ]
  },
  {
   "cell_type": "code",
   "execution_count": 43,
   "id": "3ee73a6f-f927-486d-adcf-acd9de99ecde",
   "metadata": {
    "execution": {
     "iopub.execute_input": "2025-06-07T17:01:42.055138Z",
     "iopub.status.busy": "2025-06-07T17:01:42.054603Z",
     "iopub.status.idle": "2025-06-07T17:01:42.058984Z",
     "shell.execute_reply": "2025-06-07T17:01:42.058449Z",
     "shell.execute_reply.started": "2025-06-07T17:01:42.055113Z"
    }
   },
   "outputs": [
    {
     "name": "stdout",
     "output_type": "stream",
     "text": [
      "[\n",
      "    [\n",
      "        \"第二百二十三条 动产物权的设立和转让，自交付时发生效力，但是法律另有规定的除外。\\n\",\n",
      "        0.8118640184402466\n",
      "    ],\n",
      "    [\n",
      "        \"第二百一十四条 不动产物权的设立、变更、转让和消灭，依照法律规定应当登记的，自记载于不动产登记簿时发生效力。\\n\",\n",
      "        0.8118640184402466\n",
      "    ],\n",
      "    [\n",
      "        \"第二百零八条 不动产权利的设立、变更、转让和消灭，应当依照法律规定登记。动产物权的设立和转让，应当依照法律规定交付。\\n\",\n",
      "        0.8118640184402466\n",
      "    ]\n",
      "]\n"
     ]
    }
   ],
   "source": [
    "import json\n",
    "\n",
    "retrieved_lines_with_distances = [\n",
    "    (res[\"entity\"][\"text\"], res[\"distance\"]) for res in search_res[0]\n",
    "]\n",
    "print(json.dumps(retrieved_lines_with_distances, indent=4, ensure_ascii=False))"
   ]
  },
  {
   "cell_type": "code",
   "execution_count": 45,
   "id": "40764c0b-12a4-41bc-8d67-8255dbddb262",
   "metadata": {
    "execution": {
     "iopub.execute_input": "2025-06-07T17:04:46.447540Z",
     "iopub.status.busy": "2025-06-07T17:04:46.447218Z",
     "iopub.status.idle": "2025-06-07T17:04:46.450771Z",
     "shell.execute_reply": "2025-06-07T17:04:46.450291Z",
     "shell.execute_reply.started": "2025-06-07T17:04:46.447521Z"
    }
   },
   "outputs": [
    {
     "name": "stdout",
     "output_type": "stream",
     "text": [
      "第二百二十三条 动产物权的设立和转让，自交付时发生效力，但是法律另有规定的除外。\n",
      "\n",
      "第二百一十四条 不动产物权的设立、变更、转让和消灭，依照法律规定应当登记的，自记载于不动产登记簿时发生效力。\n",
      "\n",
      "第二百零八条 不动产权利的设立、变更、转让和消灭，应当依照法律规定登记。动产物权的设立和转让，应当依照法律规定交付。\n",
      "\n"
     ]
    }
   ],
   "source": [
    "context1 = \"\\n\".join([res[\"entity\"][\"text\"] for res in search_res[0]])\n",
    "print(context1)"
   ]
  },
  {
   "cell_type": "code",
   "execution_count": 46,
   "id": "44717bbd-56c4-42e5-a281-ea6db9d6eba3",
   "metadata": {
    "execution": {
     "iopub.execute_input": "2025-06-07T17:04:46.580152Z",
     "iopub.status.busy": "2025-06-07T17:04:46.579753Z",
     "iopub.status.idle": "2025-06-07T17:04:46.583378Z",
     "shell.execute_reply": "2025-06-07T17:04:46.582887Z",
     "shell.execute_reply.started": "2025-06-07T17:04:46.580132Z"
    }
   },
   "outputs": [
    {
     "name": "stdout",
     "output_type": "stream",
     "text": [
      "第三百一十四条 按份共有人对共有的不动产或者动产按照其份额享有所有权。\n",
      "\n",
      "第二百七十七条 业主不得以放弃权利为由不履行义务。\n",
      "\n",
      "第二百零五条 本编调整因物的归属和利用产生的民事关系。\n",
      "\n"
     ]
    }
   ],
   "source": [
    "context2 = \"\\n\".join([res[\"entity\"][\"text\"] for res in search_res[1]])\n",
    "print(context2)"
   ]
  },
  {
   "cell_type": "code",
   "execution_count": 47,
   "id": "0cdcbfaa-e9ef-4cfa-8c36-0e3c2d409bc9",
   "metadata": {
    "execution": {
     "iopub.execute_input": "2025-06-07T17:06:05.974069Z",
     "iopub.status.busy": "2025-06-07T17:06:05.973619Z",
     "iopub.status.idle": "2025-06-07T17:06:05.977583Z",
     "shell.execute_reply": "2025-06-07T17:06:05.977010Z",
     "shell.execute_reply.started": "2025-06-07T17:06:05.974045Z"
    }
   },
   "outputs": [
    {
     "name": "stdout",
     "output_type": "stream",
     "text": [
      "所有权人对自己的不动产或者动产，有什么权利？\n",
      "抵押权所担保的债权有哪些？\n"
     ]
    }
   ],
   "source": [
    "print(question_1)\n",
    "print(question_2)"
   ]
  },
  {
   "cell_type": "code",
   "execution_count": 48,
   "id": "5499536c-d8cb-4642-8544-080e9de6801c",
   "metadata": {
    "execution": {
     "iopub.execute_input": "2025-06-07T17:09:53.603794Z",
     "iopub.status.busy": "2025-06-07T17:09:53.603067Z",
     "iopub.status.idle": "2025-06-07T17:09:53.606802Z",
     "shell.execute_reply": "2025-06-07T17:09:53.606248Z",
     "shell.execute_reply.started": "2025-06-07T17:09:53.603762Z"
    }
   },
   "outputs": [],
   "source": [
    "SYSTEM_PROMPT = \"\"\"\n",
    "Human: 你是一个 AI 助手。你能够从提供的上下文段落片段中找到问题的答案。\n",
    "\"\"\"\n",
    "USER_PROMPT = \"\"\"\n",
    "请使用以下用 <context> 标签括起来的信息片段来回答用 <question> 标签括起来的问题。\n",
    "最后用<remark>和</remark>来标注对 <context> 内容的准确性评价，以及添加你自己不参考 <context> 信息片段的回答。\n",
    "\n",
    "<context>\n",
    "{context}\n",
    "</context>\n",
    "<question>\n",
    "{question}\n",
    "</question>\n",
    "<remark>\n",
    "</remark>\n",
    "\"\"\""
   ]
  },
  {
   "cell_type": "code",
   "execution_count": 50,
   "id": "8d26097e-f8b6-4053-baef-158f52010f7b",
   "metadata": {
    "execution": {
     "iopub.execute_input": "2025-06-07T17:11:05.828802Z",
     "iopub.status.busy": "2025-06-07T17:11:05.828270Z",
     "iopub.status.idle": "2025-06-07T17:11:05.831833Z",
     "shell.execute_reply": "2025-06-07T17:11:05.831337Z",
     "shell.execute_reply.started": "2025-06-07T17:11:05.828782Z"
    }
   },
   "outputs": [
    {
     "name": "stdout",
     "output_type": "stream",
     "text": [
      "\n",
      "请使用以下用 <context> 标签括起来的信息片段来回答用 <question> 标签括起来的问题。\n",
      "最后用<remark>和</remark>来标注对 <context> 内容的准确性评价，以及添加你自己不参考 <context> 信息片段的回答。\n",
      "\n",
      "<context>\n",
      "第二百二十三条 动产物权的设立和转让，自交付时发生效力，但是法律另有规定的除外。\n",
      "\n",
      "第二百一十四条 不动产物权的设立、变更、转让和消灭，依照法律规定应当登记的，自记载于不动产登记簿时发生效力。\n",
      "\n",
      "第二百零八条 不动产权利的设立、变更、转让和消灭，应当依照法律规定登记。动产物权的设立和转让，应当依照法律规定交付。\n",
      "\n",
      "</context>\n",
      "<question>\n",
      "所有权人对自己的不动产或者动产，有什么权利？\n",
      "</question>\n",
      "<translated>\n",
      "</translated>\n",
      "\n"
     ]
    }
   ],
   "source": [
    "USER_PROMPT_1 = USER_PROMPT.format(context=context1, question=question_1)\n",
    "print(USER_PROMPT_1)"
   ]
  },
  {
   "cell_type": "code",
   "execution_count": 51,
   "id": "de5d580c-0a50-47cf-ba82-b3977ffb934e",
   "metadata": {
    "execution": {
     "iopub.execute_input": "2025-06-07T17:11:25.796175Z",
     "iopub.status.busy": "2025-06-07T17:11:25.795737Z",
     "iopub.status.idle": "2025-06-07T17:11:25.799339Z",
     "shell.execute_reply": "2025-06-07T17:11:25.798819Z",
     "shell.execute_reply.started": "2025-06-07T17:11:25.796155Z"
    }
   },
   "outputs": [
    {
     "name": "stdout",
     "output_type": "stream",
     "text": [
      "\n",
      "请使用以下用 <context> 标签括起来的信息片段来回答用 <question> 标签括起来的问题。\n",
      "最后用<remark>和</remark>来标注对 <context> 内容的准确性评价，以及添加你自己不参考 <context> 信息片段的回答。\n",
      "\n",
      "<context>\n",
      "第三百一十四条 按份共有人对共有的不动产或者动产按照其份额享有所有权。\n",
      "\n",
      "第二百七十七条 业主不得以放弃权利为由不履行义务。\n",
      "\n",
      "第二百零五条 本编调整因物的归属和利用产生的民事关系。\n",
      "\n",
      "</context>\n",
      "<question>\n",
      "抵押权所担保的债权有哪些？\n",
      "</question>\n",
      "<translated>\n",
      "</translated>\n",
      "\n"
     ]
    }
   ],
   "source": [
    "USER_PROMPT_2 = USER_PROMPT.format(context=context2, question=question_2)\n",
    "print(USER_PROMPT_2)"
   ]
  },
  {
   "cell_type": "code",
   "execution_count": 52,
   "id": "1bc73cbf-8690-4e11-bb02-b27c5258dfb3",
   "metadata": {
    "execution": {
     "iopub.execute_input": "2025-06-07T17:12:05.512915Z",
     "iopub.status.busy": "2025-06-07T17:12:05.512585Z",
     "iopub.status.idle": "2025-06-07T17:12:18.808190Z",
     "shell.execute_reply": "2025-06-07T17:12:18.807568Z",
     "shell.execute_reply.started": "2025-06-07T17:12:05.512895Z"
    }
   },
   "outputs": [
    {
     "name": "stdout",
     "output_type": "stream",
     "text": [
      "<answer>\n",
      "根据提供的上下文信息，虽然未直接说明所有权人的具体权利，但可以从物权变动规则反推：\n",
      "1. 对于动产（第二百二十三条）：所有权人通过\"交付\"实现物权的设立和转让\n",
      "2. 对于不动产（第二百一十四条、第二百零八条）：所有权人通过\"登记\"实现物权的设立、变更、转让和消灭\n",
      "\n",
      "由此可推知所有权人至少享有：处分权（转让/消灭物权）、设立他物权等权利。\n",
      "\n",
      "<remark>\n",
      "• 准确性评价：上下文确实完整引用了中国《民法典》物权编相关条款，但仅涉及物权变动规则，未直接规定所有权权能\n",
      "• 典型的所有权权能还应包括：占有、使用、收益等基本权能，这些在《民法典》第二百四十条有明确规定（未在提供的上下文中出现）\n",
      "</remark>\n",
      "\n",
      "补充说明（不依赖上下文）：\n",
      "根据中国《民法典》第二百四十条，所有权人对自己的不动产或动产依法享有：\n",
      "1. 占有权\n",
      "2. 使用权\n",
      "3. 收益权\n",
      "4. 处分权\n",
      "这是所有权的四项基本权能，上下文中的条款实际是处分权的具体实现方式。\n",
      "</answer>\n"
     ]
    }
   ],
   "source": [
    "response = deepseek_client.chat.completions.create(\n",
    "    model=\"deepseek-chat\",\n",
    "    messages=[\n",
    "        {\"role\": \"system\", \"content\": SYSTEM_PROMPT},\n",
    "        {\"role\": \"user\", \"content\": USER_PROMPT_1},\n",
    "    ],\n",
    ")\n",
    "print(response.choices[0].message.content)"
   ]
  },
  {
   "cell_type": "code",
   "execution_count": 53,
   "id": "d429fe3f-e260-4882-8c3c-70d64d8ba42c",
   "metadata": {
    "execution": {
     "iopub.execute_input": "2025-06-07T17:12:18.809431Z",
     "iopub.status.busy": "2025-06-07T17:12:18.808868Z",
     "iopub.status.idle": "2025-06-07T17:12:24.469051Z",
     "shell.execute_reply": "2025-06-07T17:12:24.468462Z",
     "shell.execute_reply.started": "2025-06-07T17:12:18.809402Z"
    }
   },
   "outputs": [
    {
     "name": "stdout",
     "output_type": "stream",
     "text": [
      "<remark>\n",
      "提供的<context>内容并未包含与\"抵押权所担保的债权\"直接相关的法律条文信息。上下文主要涉及的是按份共有、业主权利义务以及物权编的调整范围，这些内容与抵押权担保的债权类型没有直接关联。\n",
      "</remark>\n",
      "\n",
      "在不参考<context>信息的情况下回答：\n",
      "根据中国《民法典》相关规定，抵押权所担保的债权主要包括：\n",
      "1. 主债权（如贷款本金）\n",
      "2. 利息（包括法定利息和约定利息）\n",
      "3. 违约金\n",
      "4. 损害赔偿金\n",
      "5. 实现抵押权的费用（如评估费、拍卖费等）\n",
      "6. 保管抵押财产的费用（如需要）\n",
      "\n",
      "具体规定可参见《民法典》第四百一十条等相关条款。\n"
     ]
    }
   ],
   "source": [
    "response = deepseek_client.chat.completions.create(\n",
    "    model=\"deepseek-chat\",\n",
    "    messages=[\n",
    "        {\"role\": \"system\", \"content\": SYSTEM_PROMPT},\n",
    "        {\"role\": \"user\", \"content\": USER_PROMPT_2},\n",
    "    ],\n",
    ")\n",
    "print(response.choices[0].message.content)"
   ]
  }
 ],
 "metadata": {
  "kernelspec": {
   "display_name": "Python 3 (ipykernel)",
   "language": "python",
   "name": "python3"
  },
  "language_info": {
   "codemirror_mode": {
    "name": "ipython",
    "version": 3
   },
   "file_extension": ".py",
   "mimetype": "text/x-python",
   "name": "python",
   "nbconvert_exporter": "python",
   "pygments_lexer": "ipython3",
   "version": "3.13.4"
  }
 },
 "nbformat": 4,
 "nbformat_minor": 5
}
